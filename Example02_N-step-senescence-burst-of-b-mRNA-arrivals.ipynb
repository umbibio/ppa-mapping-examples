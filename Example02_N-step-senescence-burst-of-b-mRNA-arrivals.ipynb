{
 "cells": [
  {
   "cell_type": "code",
   "execution_count": 1,
   "metadata": {},
   "outputs": [],
   "source": [
    "from sympy import *\n",
    "from aux_methods import show_expr, evolv"
   ]
  },
  {
   "cell_type": "code",
   "execution_count": 2,
   "metadata": {},
   "outputs": [
    {
     "data": {
      "text/latex": [
       "$$\\left [ 2 \\mu, \\quad 2 \\mu\\right ]$$"
      ],
      "text/plain": [
       "<IPython.core.display.Math object>"
      ]
     },
     "metadata": {},
     "output_type": "display_data"
    }
   ],
   "source": [
    "# Define symbols to use\n",
    "k, N, u, r, g = symbols('k, N, mu, r, gamma')\n",
    "\n",
    "# This list of symbols represent values for the burst distribution\n",
    "B = [symbols('B_{%d}' % i) for i in range(20)]\n",
    "\n",
    "steps = 2\n",
    "burst_size = bs = 1\n",
    "\n",
    "# the mRNA transition types\n",
    "# list key corresponds to mRNA state\n",
    "tran_types = [steps*u] * steps # we take same rate between consecutive degradation steps\n",
    "show_expr(tran_types)"
   ]
  },
  {
   "cell_type": "code",
   "execution_count": 3,
   "metadata": {},
   "outputs": [
    {
     "data": {
      "text/latex": [
       "$$\\left [ r, \\quad r\\right ]$$"
      ],
      "text/plain": [
       "<IPython.core.display.Math object>"
      ]
     },
     "metadata": {},
     "output_type": "display_data"
    }
   ],
   "source": [
    "# protein production at each mRNA state\n",
    "prod_types = [r] * steps\n",
    "# production rate at each mRNA degradation step for a single mRNA\n",
    "# the total rate will depend of the number of mRNAs present in a state\n",
    "show_expr(prod_types)"
   ]
  },
  {
   "cell_type": "code",
   "execution_count": 4,
   "metadata": {},
   "outputs": [],
   "source": [
    "# initial transition always from ground state \n",
    "# this is a tuple of size equal to the number of possible mRNA states\n",
    "# ground = (0,) for the simplest case\n",
    "# ground = (0, 0) if there are two possible mRNA states\n",
    "ground = (0, ) * len(tran_types)\n",
    "\n",
    "# an arrival from ground state to first mRNA state\n",
    "first = (bs, ) + (0, ) * (len(tran_types) - 1)\n",
    "\n",
    "# transition rates between mRNA states\n",
    "tran_rates = {\n",
    "    (ground, first): k/N,\n",
    "    #(ground, first): B[bs]*k/N # include a rescaling in arrival rates\n",
    "}"
   ]
  },
  {
   "cell_type": "code",
   "execution_count": 5,
   "metadata": {},
   "outputs": [],
   "source": [
    "# will contain the actual protein production rates for all posible\n",
    "# states of the system\n",
    "prod_rates = {}\n",
    "\n",
    "# the set of posible states of the system\n",
    "states = set()\n",
    "\n",
    "# auxiliar set, used to build the final states set\n",
    "n_states = set()\n",
    "n_states.add(first)\n",
    "\n",
    "# posible states are discovered by exploring how the arrival\n",
    "# state evolves, according to function evolv(state)\n",
    "while len(n_states) > 0:\n",
    "    t_state = n_states.pop()\n",
    "    # make this state part of the set\n",
    "    states.add(t_state)\n",
    "    try:\n",
    "        # discover child states for this one\n",
    "        childs = evolv(t_state)\n",
    "        \n",
    "        for child, i in childs:\n",
    "            # transition rate is proportional to the\n",
    "            # number of mRNAs in ith state\n",
    "            tran_rates[(t_state, child)] = t_state[i]*tran_types[i]\n",
    "            n_states.add(child)\n",
    "    except IndexError:\n",
    "        pass\n",
    "\n",
    "# protein production rates at each state\n",
    "for state in states:\n",
    "    # initialize\n",
    "    prod_rates[state] = 0\n",
    "    for i, n in enumerate(state):\n",
    "        # add up all protein production rate contributions\n",
    "        # n is the number of mRNAs in i-th mRNA state\n",
    "        prod_rates[state] += n * prod_types[i]"
   ]
  },
  {
   "cell_type": "code",
   "execution_count": 6,
   "metadata": {},
   "outputs": [],
   "source": [
    "# Determine the set of unique nodes\n",
    "nodes = set([node for edge in tran_rates.keys() for node in edge])\n",
    "\n",
    "# Node count, sorted list of nodes\n",
    "n_cnt = len(nodes)\n",
    "n_lst = sorted(list(nodes))\n",
    "n_idx = range(n_cnt)\n",
    "\n",
    "# dict map from node name to node index in sorted list\n",
    "n_dct = dict(zip(n_lst, n_idx))"
   ]
  },
  {
   "cell_type": "code",
   "execution_count": 7,
   "metadata": {},
   "outputs": [
    {
     "data": {
      "text/latex": [
       "$$\\left[\\begin{matrix}- \\frac{k}{N} & 2 \\mu & 0\\\\0 & - 2 \\mu & 2 \\mu\\\\\\frac{k}{N} & 0 & - 2 \\mu\\end{matrix}\\right]$$"
      ],
      "text/plain": [
       "<IPython.core.display.Math object>"
      ]
     },
     "metadata": {},
     "output_type": "display_data"
    }
   ],
   "source": [
    "# Build the \"transition\" matrix\n",
    "K = zeros(n_cnt, n_cnt)\n",
    "for t, r in tran_rates.items():\n",
    "    K[n_dct[t[1]], n_dct[t[0]]] += r\n",
    "    K[n_dct[t[0]], n_dct[t[0]]] -= r\n",
    "show_expr(K)"
   ]
  },
  {
   "cell_type": "code",
   "execution_count": 8,
   "metadata": {},
   "outputs": [
    {
     "data": {
      "text/latex": [
       "$$\\left[\\begin{matrix}0 & 0 & 0\\\\0 & r & 0\\\\0 & 0 & r\\end{matrix}\\right]$$"
      ],
      "text/plain": [
       "<IPython.core.display.Math object>"
      ]
     },
     "metadata": {},
     "output_type": "display_data"
    }
   ],
   "source": [
    "R = zeros(n_cnt, n_cnt)\n",
    "for s, r in prod_rates.items():\n",
    "    R[n_dct[s], n_dct[s]] += r\n",
    "show_expr(R)"
   ]
  },
  {
   "cell_type": "code",
   "execution_count": 9,
   "metadata": {},
   "outputs": [],
   "source": [
    "X = K.copy()\n",
    "X.row_del(0)\n",
    "X = X.row_insert(0, ones(1, K.shape[0]))\n",
    "G = eye(K.shape[0])*g\n",
    "kr = R*ones(K.shape[0], 1)\n",
    "b = zeros(K.shape[0], 1)\n",
    "b[0] = 1"
   ]
  },
  {
   "cell_type": "code",
   "execution_count": 10,
   "metadata": {},
   "outputs": [],
   "source": [
    "m0 = factor(X.LUsolve(b))\n",
    "m1 = factor((K-G).LUsolve(-R*m0))"
   ]
  },
  {
   "cell_type": "code",
   "execution_count": 11,
   "metadata": {},
   "outputs": [
    {
     "data": {
      "text/latex": [
       "$$\\frac{k r}{\\gamma \\left(N \\mu + k\\right)}$$"
      ],
      "text/plain": [
       "<IPython.core.display.Math object>"
      ]
     },
     "metadata": {},
     "output_type": "display_data"
    }
   ],
   "source": [
    "# 1st moment at reduced model\n",
    "mean_rm = factor((kr.T * m0/g)[0])\n",
    "show_expr(mean_rm)"
   ]
  },
  {
   "cell_type": "code",
   "execution_count": 12,
   "metadata": {},
   "outputs": [
    {
     "data": {
      "text/latex": [
       "$$\\frac{k r}{\\gamma \\mu}$$"
      ],
      "text/plain": [
       "<IPython.core.display.Math object>"
      ]
     },
     "metadata": {},
     "output_type": "display_data"
    }
   ],
   "source": [
    "# 1st moment: E[p], the mean\n",
    "# for protein number at original model\n",
    "mean = (N*mean_rm).limit(N, S.Infinity)\n",
    "show_expr(mean)"
   ]
  },
  {
   "cell_type": "code",
   "execution_count": 13,
   "metadata": {},
   "outputs": [
    {
     "data": {
      "text/latex": [
       "$$\\frac{k r^{2} \\left(N \\gamma^{2} + 3 N \\gamma \\mu + \\gamma k + 4 k \\mu\\right)}{\\gamma^{2} \\left(N \\mu + k\\right) \\left(N \\gamma^{2} + 4 N \\gamma \\mu + 4 N \\mu^{2} + \\gamma k + 4 k \\mu\\right)}$$"
      ],
      "text/plain": [
       "<IPython.core.display.Math object>"
      ]
     },
     "metadata": {},
     "output_type": "display_data"
    }
   ],
   "source": [
    "# 2nd moment at reduced model\n",
    "secm_rm = factor((kr.T * m1/g)[0])\n",
    "show_expr(secm_rm)"
   ]
  },
  {
   "cell_type": "code",
   "execution_count": 14,
   "metadata": {},
   "outputs": [
    {
     "data": {
      "text/latex": [
       "$$\\frac{k r^{2} \\left(\\gamma^{2} k + \\gamma^{2} \\mu + 4 \\gamma k \\mu + 3 \\gamma \\mu^{2} + 4 k \\mu^{2}\\right)}{\\gamma^{2} \\mu^{2} \\left(\\gamma + 2 \\mu\\right)^{2}}$$"
      ],
      "text/plain": [
       "<IPython.core.display.Math object>"
      ]
     },
     "metadata": {},
     "output_type": "display_data"
    }
   ],
   "source": [
    "# 2nd moment: E[p*(p-1)]\n",
    "# for protein number at original model\n",
    "secm = factor(mean**2 + (N*secm_rm).limit(N, S.Infinity))\n",
    "show_expr(secm)"
   ]
  },
  {
   "cell_type": "code",
   "execution_count": 15,
   "metadata": {},
   "outputs": [
    {
     "data": {
      "text/latex": [
       "$$\\frac{r \\left(\\gamma + 3 \\mu\\right)}{\\left(\\gamma + 2 \\mu\\right)^{2}} + 1$$"
      ],
      "text/plain": [
       "<IPython.core.display.Math object>"
      ]
     },
     "metadata": {},
     "output_type": "display_data"
    }
   ],
   "source": [
    "# compute the fano factor\n",
    "# for protein number at original model\n",
    "variance = factor(secm + mean - mean**2)\n",
    "fano = factor(variance/mean -1) +1 # tweak factorization\n",
    "show_expr(fano)"
   ]
  },
  {
   "cell_type": "code",
   "execution_count": 16,
   "metadata": {},
   "outputs": [
    {
     "data": {
      "text/latex": [
       "$$\\frac{r \\left(\\gamma + 3 \\mu\\right)}{\\left(\\gamma + 2 \\mu\\right)^{2}} + 1$$"
      ],
      "text/plain": [
       "<IPython.core.display.Math object>"
      ]
     },
     "metadata": {},
     "output_type": "display_data"
    }
   ],
   "source": [
    "# compute the fano factor\n",
    "# for protein number at original model\n",
    "variance = factor(secm + mean - mean**2)\n",
    "fano = factor(variance/mean -1) +1 # tweak factorization\n",
    "show_expr(fano)"
   ]
  },
  {
   "cell_type": "code",
   "execution_count": null,
   "metadata": {},
   "outputs": [],
   "source": []
  }
 ],
 "metadata": {
  "kernelspec": {
   "display_name": "Python 3",
   "language": "python",
   "name": "python3"
  },
  "language_info": {
   "codemirror_mode": {
    "name": "ipython",
    "version": 3
   },
   "file_extension": ".py",
   "mimetype": "text/x-python",
   "name": "python",
   "nbconvert_exporter": "python",
   "pygments_lexer": "ipython3",
   "version": "3.6.5"
  }
 },
 "nbformat": 4,
 "nbformat_minor": 2
}
