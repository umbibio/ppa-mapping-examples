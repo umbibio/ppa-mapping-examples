{
 "cells": [
  {
   "cell_type": "code",
   "execution_count": 1,
   "metadata": {},
   "outputs": [],
   "source": [
    "from sympy import *\n",
    "from aux_methods import show_expr"
   ]
  },
  {
   "cell_type": "code",
   "execution_count": 2,
   "metadata": {},
   "outputs": [],
   "source": [
    "# Define symbols to use\n",
    "k, N, uc, r, g = symbols('k, N, mu_c, r, gamma')\n",
    "un = symbols('mu_n')\n",
    "\n",
    "# the mRNA transition types\n",
    "# dictionary key corresponds to mRNA state\n",
    "tran_rates = {\n",
    "    (0, 1): k/N, # first mRNA state, comes from ground state\n",
    "    (1, 2): un,\n",
    "    (2, 3): un,\n",
    "    (3, 0): uc  # last mRNA state, leads to ground state\n",
    "}\n",
    "\n",
    "# protein production at each mRNA state\n",
    "prod_rates = {\n",
    "    1: 0,\n",
    "    2: 0,\n",
    "    3: r\n",
    "}\n"
   ]
  },
  {
   "cell_type": "code",
   "execution_count": 3,
   "metadata": {},
   "outputs": [],
   "source": [
    "# Determine the set of unique nodes (states)\n",
    "nodes = set([node for edge in tran_rates.keys() for node in edge])\n",
    "\n",
    "# Node count, sorted list of nodes\n",
    "n_cnt = len(nodes)\n",
    "n_lst = sorted(list(nodes))\n",
    "n_idx = range(n_cnt)\n",
    "\n",
    "# dict map from node name to node index in sorted list\n",
    "n_dct = dict(zip(n_lst, n_idx))"
   ]
  },
  {
   "cell_type": "code",
   "execution_count": 4,
   "metadata": {},
   "outputs": [
    {
     "data": {
      "text/latex": [
       "$$\\left[\\begin{matrix}- \\frac{k}{N} & 0 & 0 & \\mu_{c}\\\\\\frac{k}{N} & - \\mu_{n} & 0 & 0\\\\0 & \\mu_{n} & - \\mu_{n} & 0\\\\0 & 0 & \\mu_{n} & - \\mu_{c}\\end{matrix}\\right]$$"
      ],
      "text/plain": [
       "<IPython.core.display.Math object>"
      ]
     },
     "metadata": {},
     "output_type": "display_data"
    }
   ],
   "source": [
    "# Build the \"transition\" matrix\n",
    "K = zeros(n_cnt, n_cnt)\n",
    "for t, r in tran_rates.items():\n",
    "    K[n_dct[t[1]], n_dct[t[0]]] += r\n",
    "    K[n_dct[t[0]], n_dct[t[0]]] -= r\n",
    "show_expr(K)"
   ]
  },
  {
   "cell_type": "code",
   "execution_count": 5,
   "metadata": {},
   "outputs": [
    {
     "data": {
      "text/latex": [
       "$$\\left[\\begin{matrix}0 & 0 & 0 & 0\\\\0 & 0 & 0 & 0\\\\0 & 0 & 0 & 0\\\\0 & 0 & 0 & r\\end{matrix}\\right]$$"
      ],
      "text/plain": [
       "<IPython.core.display.Math object>"
      ]
     },
     "metadata": {},
     "output_type": "display_data"
    }
   ],
   "source": [
    "R = zeros(n_cnt, n_cnt)\n",
    "for s, r in prod_rates.items():\n",
    "    R[n_dct[s], n_dct[s]] += r\n",
    "show_expr(R)"
   ]
  },
  {
   "cell_type": "code",
   "execution_count": 6,
   "metadata": {},
   "outputs": [],
   "source": [
    "X = K.copy()\n",
    "X.row_del(0)\n",
    "X = X.row_insert(0, ones(1, K.shape[0]))\n",
    "G = eye(K.shape[0])*g\n",
    "kr = R*ones(K.shape[0], 1)\n",
    "b = zeros(K.shape[0], 1)\n",
    "b[0] = 1"
   ]
  },
  {
   "cell_type": "code",
   "execution_count": 7,
   "metadata": {},
   "outputs": [],
   "source": [
    "m0 = factor(X.LUsolve(b))\n",
    "m1 = factor((K-G).LUsolve(-R*m0))"
   ]
  },
  {
   "cell_type": "code",
   "execution_count": 8,
   "metadata": {},
   "outputs": [
    {
     "data": {
      "text/latex": [
       "$$\\frac{k \\mu_{n} r}{\\gamma \\left(N \\mu_{c} \\mu_{n} + 2 k \\mu_{c} + k \\mu_{n}\\right)}$$"
      ],
      "text/plain": [
       "<IPython.core.display.Math object>"
      ]
     },
     "metadata": {},
     "output_type": "display_data"
    }
   ],
   "source": [
    "# 1st moment at reduced model\n",
    "mean_rm = factor((kr.T * m0/g)[0])\n",
    "show_expr(mean_rm)"
   ]
  },
  {
   "cell_type": "code",
   "execution_count": 9,
   "metadata": {},
   "outputs": [
    {
     "data": {
      "text/latex": [
       "$$\\frac{k r}{\\gamma \\mu_{c}}$$"
      ],
      "text/plain": [
       "<IPython.core.display.Math object>"
      ]
     },
     "metadata": {},
     "output_type": "display_data"
    }
   ],
   "source": [
    "# 1st moment: E[p]\n",
    "# mean protein number at original model\n",
    "mean = (N*mean_rm).limit(N, S.Infinity)\n",
    "show_expr(mean)"
   ]
  },
  {
   "cell_type": "code",
   "execution_count": 10,
   "metadata": {},
   "outputs": [],
   "source": [
    "# 2nd moment at reduced model\n",
    "secm_rm = factor((kr.T * m1/g)[0])\n",
    "#show_expr(secm_rm)"
   ]
  },
  {
   "cell_type": "code",
   "execution_count": 11,
   "metadata": {},
   "outputs": [
    {
     "data": {
      "text/latex": [
       "$$\\frac{k r^{2} \\left(\\gamma k + \\gamma \\mu_{c} + k \\mu_{c}\\right)}{\\gamma^{2} \\mu_{c}^{2} \\left(\\gamma + \\mu_{c}\\right)}$$"
      ],
      "text/plain": [
       "<IPython.core.display.Math object>"
      ]
     },
     "metadata": {},
     "output_type": "display_data"
    }
   ],
   "source": [
    "# 2nd moment: E[p*(p-1)]\n",
    "# for protein number at original model\n",
    "secm = factor(mean**2 + (N*secm_rm).limit(N, S.Infinity))\n",
    "show_expr(secm)"
   ]
  },
  {
   "cell_type": "code",
   "execution_count": 12,
   "metadata": {},
   "outputs": [
    {
     "data": {
      "text/latex": [
       "$$\\frac{r}{\\gamma + \\mu_{c}} + 1$$"
      ],
      "text/plain": [
       "<IPython.core.display.Math object>"
      ]
     },
     "metadata": {},
     "output_type": "display_data"
    }
   ],
   "source": [
    "# compute the fano factor\n",
    "# for protein number at original model\n",
    "variance = factor(secm + mean - mean**2)\n",
    "fano = factor(variance/mean -1) +1 # tweak factorization\n",
    "show_expr(fano)"
   ]
  }
 ],
 "metadata": {
  "kernelspec": {
   "display_name": "Python 3",
   "language": "python",
   "name": "python3"
  },
  "language_info": {
   "codemirror_mode": {
    "name": "ipython",
    "version": 3
   },
   "file_extension": ".py",
   "mimetype": "text/x-python",
   "name": "python",
   "nbconvert_exporter": "python",
   "pygments_lexer": "ipython3",
   "version": "3.6.5"
  }
 },
 "nbformat": 4,
 "nbformat_minor": 2
}
